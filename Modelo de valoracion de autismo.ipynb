{
 "cells": [
  {
   "cell_type": "code",
   "execution_count": null,
   "metadata": {},
   "outputs": [],
   "source": []
  }
 ],
 "metadata": {
  "kernelspec": {
   "display_name": "Python (py3_TF2)",
   "language": "python",
   "name": "py3-tf2"
  }
 },
 "nbformat": 4,
 "nbformat_minor": 4
}
